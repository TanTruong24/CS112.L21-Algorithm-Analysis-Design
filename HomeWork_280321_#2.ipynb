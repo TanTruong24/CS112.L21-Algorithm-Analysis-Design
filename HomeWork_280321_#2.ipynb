{
  "nbformat": 4,
  "nbformat_minor": 0,
  "metadata": {
    "colab": {
      "name": "HomeWork_280321_#2.ipynb",
      "provenance": [],
      "authorship_tag": "ABX9TyN8daJlCfxDkVZWqD4JVKv3",
      "include_colab_link": true
    },
    "kernelspec": {
      "name": "python3",
      "display_name": "Python 3"
    },
    "language_info": {
      "name": "python"
    }
  },
  "cells": [
    {
      "cell_type": "markdown",
      "metadata": {
        "id": "view-in-github",
        "colab_type": "text"
      },
      "source": [
        "<a href=\"https://colab.research.google.com/github/TanTruong24/CS112.L21-Algorithm-Analysis-Design/blob/main/HomeWork_280321_%232.ipynb\" target=\"_parent\"><img src=\"https://colab.research.google.com/assets/colab-badge.svg\" alt=\"Open In Colab\"/></a>"
      ]
    },
    {
      "cell_type": "markdown",
      "metadata": {
        "id": "TMkp6fPK7gKg"
      },
      "source": [
        "#**Problem 1:** *Khóa số*\n",
        "\n",
        "1. **Abstraction**: \\\n",
        "  input: Xâu n\\\n",
        "  output: chuỗi m lớn nhất (đổi vị trí hoặc xóa phần tử từ xâu n), m%3 == 0\n",
        "2. **Pattern Recognition**: Tìm Chuỗi lớn nhất chia hết cho số n.\n",
        "3. **Algorithmic Complexity:** O(n)\n",
        "4. **Algorithm designed:**\n",
        "\n",
        "![#2.2](https://drive.google.com/uc?export=view&id=1PZVeU5dmH49W6KDvlc5ys0Ih436m1bVy)"
      ]
    },
    {
      "cell_type": "code",
      "metadata": {
        "id": "ZaiR6Iwlb9lW"
      },
      "source": [
        "from collections import Counter\n",
        "\n",
        "def largesStrDiv3(lst):\n",
        "\n",
        "    sum_lst = sum(lst)\n",
        "    count = Counter(lst)\n",
        "\n",
        "    if lst.count(0) == len(lst):  # Kiểm tra nếu một chuỗi 0 thì xuất lại\n",
        "        return ''.join([str(c) for c in lst])\n",
        "\n",
        "    while sum_lst % 3 != 0:\n",
        "\n",
        "        if sum_lst % 3 == 2:\n",
        "            ele_del = [2, 5, 8, 1, 4, 7] # ele_del những số cần xóa\n",
        "        else:\n",
        "            ele_del = [1, 4, 7, 2, 5, 8]\n",
        "\n",
        "        for x in ele_del:\n",
        "            if count[x] > 0:\n",
        "                count[x] -= 1\n",
        "                sum_lst -= x\n",
        "                break\n",
        "\n",
        "    res = \"\"\n",
        "    for i in [9, 8, 7, 6, 5, 4, 3, 2, 1, 0]:    #Xét theo giá trị giảm dần đảm bảo lớn nhất\n",
        "        if i == 0 and res == \"\" and count[i]:\n",
        "            return \"0\"\n",
        "        res += str(i)*count[i]\n",
        "\n",
        "    return res\n",
        "\n",
        "lst = input()\n",
        "lst = list(map(int, input().strip()))\n",
        "print(largesStrDiv3(lst))\n",
        "\n"
      ],
      "execution_count": null,
      "outputs": []
    },
    {
      "cell_type": "markdown",
      "metadata": {
        "id": "Zyw9WviKQTtT"
      },
      "source": [
        "##Nhận định cá nhân\n",
        "###Ý tưởng đầu tiên:\n",
        "Sẽ có 2 trường hợp xảy ra trong:\n",
        "  1. Tổng các chữ số trong chuỗi chia hết cho 3, chỉ cần đổi vị trị thứ tự các phần tử trong chuỗi để được chuỗi lớn nhất.\n",
        "  2. Khi mà tổng không chia hết cho 3, cần phải xóa một hoặc nhiều phần tử trong chuỗi. \n",
        "\n",
        "**Hướng ** khá đơn giản, chỉ cần sort giảm dần là được.\\\n",
        "**Hướng 2** có vấn đề hơn. Đầu tiên mình nghĩ sẽ sắp xếp giảm dần và xóa các phần từ nhỏ nhất để có tổng chia hết cho 3. Tuy nhiên, cách suy nghĩ này có vấn đề vì có trường hợp xóa hai chữ số bé nhất mới chia hết cho 3, trong khi chỉ cần xóa một chữ số khác lớn hơn thì đã chia hết cho 3.\\ \n",
        "  * Ví dụ: 53222111 nếu theo cách suy nghĩ trên thì sẽ xóa 11 cuối, kết quả là 532221. Tuy nhiên kết quả đúng phải là 5322111 > 532221. Nên cách đặt vấn đề ở **Hướng 2** trên không tốt.\n",
        "\n",
        "##Ý tưởng sau lần đầu tiên:\n",
        "\n",
        "Một số n bắt kỳ không chia hết cho 3 sẽ có hai trường hợp xảy ra:\n",
        "  1. n % 3 = 1 $\\to$ Ta cần loại bỏ một chữ số chia 3 dư 1 (34 bỏ 4, 4%3=1) hoặc hai chữ số chia 3 dư 2 (322 bỏ 2,2 vì 2%3=2)\n",
        "  2. N  % 3 = 2 $\\to$ Ta cần loại bỏ một chữ số chia 3 dư 2 (35 bỏ 5, 5%3=2) hoặc hai chữ số chia 3 dư 1 (341 bỏ 1 và 4 vì 4(1)%3=2)\n",
        "\n",
        "**Hướng thực hiện:**\n",
        "  * Đầu tiên, tạo bộ đếm số lần xuất hiện cho các chữ số và lấy tổng.\n",
        "  * Sau đó kiểm tra xem chúng ta cần loại bỏ chữ số nào để tổng của tất cả chúng chia hết cho 3. Như phân tích 2 trường hợp ở trên. \n",
        "\n",
        "    * *Nhóm 1:* Nếu sum(chữ số) % 3 == 2, chúng ta chỉ cần loại bỏ 2,5, 8.\n",
        "    * *Nhóm 2:* Nếu sum(chữ số) % 3 == 1, chúng ta có thể loại bỏ 1,4, 7. \n",
        "\n",
        "  * Trong cả hai trường hợp, chúng ta luôn muốn loại bỏ chữ số nhỏ nhất có thể. \n",
        "  * Tuy nhiên, có trường hợp chúng ta có thể không có bất kỳ số nào mong muốn để xóa trong danh sách chữ số, trong trường hợp đó, chúng ta cần phải xóa một số khỏi nhóm khác để tiến tới tổng chia hết cho 3. Đây là lý do tại sao **ele_del** chỉ là hai nhóm số được nối với nhau theo thứ tự thay thế. Mỗi lần loại bỏ một số, chúng ta kiểm tra xem tổng có chia hết cho 3 hay không bằng cách sử dụng while.\n",
        "\n"
      ]
    },
    {
      "cell_type": "markdown",
      "metadata": {
        "id": "zNo0Joq-th7b"
      },
      "source": [
        "#**Problem 1:** *H_index*\n",
        "\n",
        "1. **Abstraction:** **H_index** = max(k), nếu Ci (i = 1->k) >= k.\\\n",
        "input n bài,  Ci, i=1->n.\\\n",
        "output: H_index\n",
        "2. **Pattern Recognition**: bài toán liên quan đến author-level metric\n",
        "3. **Algorithmic Complexity:** O(nlogn + n)\n",
        "4. **Algorithm designed:**\n",
        "\n",
        "![#2](https://drive.google.com/uc?export=view&id=1RyqvMnJDvb9UZnIt3Bb7r9L7YeFd8Uhq)\n"
      ]
    },
    {
      "cell_type": "code",
      "metadata": {
        "id": "QTw-KmyY7cKO"
      },
      "source": [
        "import sys\n",
        "input=sys.stdin.readline\n",
        "output=sys.stdout.write\n",
        "\n",
        "n = int(input())\n",
        "lst = list(map(int,input().split()))\n",
        "lst.sort()\n",
        "\n",
        "for i in range(n):\n",
        "\tif lst[i]>= n-i:\n",
        "\t\toutput(str(n-i))\n",
        "\t\tsys.exit(0)\n",
        "  \n",
        "output('0')"
      ],
      "execution_count": null,
      "outputs": []
    }
  ]
}