{
  "nbformat": 4,
  "nbformat_minor": 0,
  "metadata": {
    "colab": {
      "name": "HomeWork_190321_#1.ipynb",
      "provenance": [],
      "collapsed_sections": [],
      "authorship_tag": "ABX9TyOcRpRVa/sw7ggR5GzbJRnB",
      "include_colab_link": true
    },
    "kernelspec": {
      "name": "python3",
      "display_name": "Python 3"
    },
    "language_info": {
      "name": "python"
    }
  },
  "cells": [
    {
      "cell_type": "markdown",
      "metadata": {
        "id": "view-in-github",
        "colab_type": "text"
      },
      "source": [
        "<a href=\"https://colab.research.google.com/github/TanTruong24/CS112.L21-Algorithm-Analysis-Design/blob/main/HomeWork_Wecode/HomeWork_190321_%231/HomeWork_190321_%231.ipynb\" target=\"_parent\"><img src=\"https://colab.research.google.com/assets/colab-badge.svg\" alt=\"Open In Colab\"/></a>"
      ]
    },
    {
      "cell_type": "markdown",
      "metadata": {
        "id": "Cjgg-BhFH3Qk"
      },
      "source": [
        "#**Bài 1: Tảo biển:**"
      ]
    },
    {
      "cell_type": "markdown",
      "metadata": {
        "id": "Z0B2gtfWPo-Z"
      },
      "source": [
        "\n",
        "![#ex1.png](https://github.com/TanTruong24/CS112.L21-Algorithm-Analysis-Design/blob/6ec11452ace53c99c664701aa78e6b42d832ce0e/HomeWork_Wecode/HomeWork_190321_%231/exercise_1.png?raw=true)\n",
        "\n",
        "\n",
        "1. **Abstraction**: Ngày 0 $n$ cá thể mức 1, ngày thứ $x (1 \\to k)$ mỗi cá thể mức $i$ sinh ra $i$ cá thể mức $i$, $i$ cá thể thành mức $i+1$. Số cá thể khi $x = k$.\n",
        "2. **Pattern Recognition**: Kỹ thuật sử dụng vòng lặp For và sử dụng biến tạm.\n",
        "3. **Algorithm designed:** (lưu đồ hình dưới)\n",
        "4. **Algorithmic Complexity:** O(n)\n",
        "\n",
        "![#1_c1.png](https://github.com/TanTruong24/CS112.L21-Algorithm-Analysis-Design/blob/main/HomeWork_Wecode/HomeWork_190321_%231/%231.1.png?raw=true)"
      ]
    },
    {
      "cell_type": "code",
      "metadata": {
        "id": "nLsCLXnnTS5p"
      },
      "source": [
        "n, k = map(int, input().split())\n",
        "\n",
        "sum = 0\n",
        "pre_res = n\n",
        "res = 0\n",
        "for i in range(k):\n",
        "    res = pre_res * 2 + sum\n",
        "    sum += pre_res\n",
        "    pre_res = res\n",
        "\n",
        "print(res%(10**9+7))"
      ],
      "execution_count": null,
      "outputs": []
    },
    {
      "cell_type": "markdown",
      "metadata": {
        "id": "--esPaCYYxAd"
      },
      "source": [
        "##Nhận định cá nhân:\n",
        "\n",
        "* Cái nhìn đầu tiên khi đọc bài toán làm mình liên tưởng tới một bài *nghe có vẻ giống* với bài tập này là **Dãy Fibonaci và bài toán nuôi thỏ**. Nó giống vì mình thấy nó có sự gia tăng qua từng thời điểm với một quy luật nhất đinh. Điều đó làm mình có suy nghĩ sẽ sử dụng **Đệ quy** để giải quyết bài toán.\n",
        "* Tuy nhiên, muốn Đệ quy thì mình cần tính ra phép tính mấu chốt của hàm đệ quy, và mình bắt đầu tìm ra công thức của bài toán. \\\n",
        "Bắt đầu với ví dụ n = 3 và k = 3, sẽ được các kết quả là {3, 6, 15, 39}. Với k = 3 sẽ tìm ra quy luật tính số cá thể bắt đầu từ ngày thứ 1 là: $ m = 3^x $ + số cá thể ngày trước. Tuy vậy với k = 4 hoặc n != 3 thì công thức trên là sai.\n",
        "* **Sai lầm và rút kinh nghiệm:** Mình làm bài với bạn trong nhóm và sai lầm của tụi mình là **không sử dụng giấy để nháp**. Tụi mình suy nghĩ trong đầu và đánh ra các con số, kết quả bằng notepad trên máy tính, đều này dẫn đến việc khó phát họa một ý tưởng nào đó nảy ra, dẫn đến làm mấy một thời gian khá lâu.\n",
        "* Khi có giấy bút thì tụi mình viết ra các kết quả và dần dần nhận được công thức trực tiếp có thể dẫn đến kết quả mà không cần phải đệ quy như suy nghĩ ban đầu.\n",
        "* Khi gặp bug và căng thẳng thì mình nên đi ra ngoài thư giãn, điều đó có thể giúp nãy ra ý tưởng cho bài toán hoặc có thể nhận được sự giúp đỡ nào đó. **\"*Muốn chặt nhiều củi thì cần phải mài rìu cho sắc*\"**\n",
        "\n",
        "\n"
      ]
    },
    {
      "cell_type": "markdown",
      "metadata": {
        "id": "WoEoWIhlHzok"
      },
      "source": [
        "#**Bài 2: Trạm thu phí (BOT)**"
      ]
    },
    {
      "cell_type": "markdown",
      "metadata": {
        "id": "NK-Wcq-QN7sI"
      },
      "source": [
        "![ex2_1](https://github.com/TanTruong24/CS112.L21-Algorithm-Analysis-Design/blob/main/HomeWork_Wecode/HomeWork_190321_%231/exercise_2.png?raw=true)\n",
        "\n",
        "![ex2_2](https://github.com/TanTruong24/CS112.L21-Algorithm-Analysis-Design/blob/main/HomeWork_Wecode/HomeWork_190321_%231/exercise_2_2.png?raw=true)\n",
        "\n",
        "1. **Abstraction:** $n$ đoạn, lãi đoạn $i$ là $a_i$ $(a_i \\in \\mathbb{Z})$, chọn từ đoạn $p \\to q$ để $a_{pq} = max$.\n",
        "2. **Pattern Recognition:** kỹ thuật sử dụng vòng lặp\n",
        "3. **Algorithm designed:** (lưu đồ)\n",
        "4. **Algorithmic Complexity**:  O(n)\n",
        "\n",
        "![#1_c2.png](https://github.com/TanTruong24/CS112.L21-Algorithm-Analysis-Design/blob/main/HomeWork_Wecode/HomeWork_190321_%231/%231.2.png?raw=true)"
      ]
    },
    {
      "cell_type": "code",
      "metadata": {
        "id": "HXJwUz5ziHKQ"
      },
      "source": [
        "n = int(input())\n",
        "lst = list(map(int, input().split()))\n",
        "\n",
        "max_prof = 0\n",
        "cur_prof = 0\n",
        "start = 0\n",
        "\n",
        "for i in range(n):\n",
        "    cur_prof = cur_prof + lst[i]\n",
        "    if (max_prof < cur_prof):\n",
        "        max_prof = cur_prof\n",
        "        cur_start = start\n",
        "        cur_end = i\n",
        "    if (cur_prof < 0):\n",
        "        cur_prof = 0\n",
        "        start = i + 1\n",
        "\n",
        "print(cur_start + 1, cur_end + 1, max_prof)"
      ],
      "execution_count": null,
      "outputs": []
    }
  ]
}