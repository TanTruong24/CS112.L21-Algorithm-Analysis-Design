{
  "nbformat": 4,
  "nbformat_minor": 0,
  "metadata": {
    "colab": {
      "name": "HomeWork_190421_#3.ipynb",
      "provenance": [],
      "collapsed_sections": [],
      "toc_visible": true,
      "authorship_tag": "ABX9TyMJUzzmPVLbiAQYCHiKk2yl",
      "include_colab_link": true
    },
    "kernelspec": {
      "name": "python3",
      "display_name": "Python 3"
    },
    "language_info": {
      "name": "python"
    }
  },
  "cells": [
    {
      "cell_type": "markdown",
      "metadata": {
        "id": "view-in-github",
        "colab_type": "text"
      },
      "source": [
        "<a href=\"https://colab.research.google.com/github/TanTruong24/CS112.L21-Algorithm-Analysis-Design/blob/main/HomeWork_190421_%233.ipynb\" target=\"_parent\"><img src=\"https://colab.research.google.com/assets/colab-badge.svg\" alt=\"Open In Colab\"/></a>"
      ]
    },
    {
      "cell_type": "markdown",
      "metadata": {
        "id": "BQkzMQvDJA19"
      },
      "source": [
        "#**CS112: BÁO CÁO THỰC HÀNH #3**\n"
      ]
    },
    {
      "cell_type": "markdown",
      "metadata": {
        "id": "TMkp6fPK7gKg"
      },
      "source": [
        "#**Problem 1:** *Đổi mới*\n",
        "\n",
        "1. **Abstraction**: \\\n",
        "* **input**: 2 đội chặt **n** cây. Đội 1 chặt **a** cây, ngày thứ **k, 2k, 3k,..** *nghỉ 1 ngày*. Đội 2 chặt **b** cây, ngày thứ **m, 2m, 3m,..** *nghỉ 1 ngày*. \n",
        "* **output**: Thời gian 2 đội chặt xong n cây.\n",
        "2. **Pattern Recognition**: tìm công thức quyết định\n",
        "3. **Algorithmic Complexity:** O(logn)\n",
        "4. **Algorithm designed:**\n",
        "\n",
        "![#3.1](https://drive.google.com/uc?export=view&id=1agnTj4QrL1GRb9DUWRgcVOpiIS4PdhDm)"
      ]
    },
    {
      "cell_type": "code",
      "metadata": {
        "id": "ZaiR6Iwlb9lW"
      },
      "source": [
        "#Số cây ngày thứ d của một đội\n",
        "def tree_x_day(a,k,d): \n",
        "\treturn a*(k-1)*(d//k)+a*(d%k)\n",
        "\n",
        "a, k, b, m, n = map(int,input().split())\n",
        "\n",
        "#x_guess là số ngày dự đoán làm xong\n",
        "#làm liên tục thì sau n/(a+b) ngày \n",
        "#nhưng có nghỉ sau k hoặc m ngày\n",
        "x_guess = int(n/((a+b)-a//k-b//m))\n",
        "\n",
        "#tăng lên cho đến khi đúng\n",
        "while(True):\n",
        "\t#số cây cả hai đội chặt sau x_guess ngày\n",
        "\tt = tree_x_day(a,k,x_guess) + tree_x_day(b,m,x_guess)\n",
        "\tif t >= n:\n",
        "\t\tbreak\n",
        "\tx_guess += 1\n",
        "\n",
        "print(x_guess)\n"
      ],
      "execution_count": null,
      "outputs": []
    },
    {
      "cell_type": "markdown",
      "metadata": {
        "id": "zNo0Joq-th7b"
      },
      "source": [
        "#**Problem 2:** *Số nguyên mới*\n",
        "\n",
        "1. **Abstraction:**\n",
        "- **n** nguyên dương, số chữ số <= 100 chữ số.\n",
        "- **m**%3 == 0, **m** nguyên lớn nhất. **m** khác **n** ở một chữ số.\n",
        "2. **Pattern Recognition**: sử dụng mod và các câu lệnh điều kiện\n",
        "3. **Algorithmic Complexity:** O(log n)\n",
        "4. **Algorithm designed:**\\\n",
        "Mã giả:\n",
        "\n",
        "![#3.2](https://drive.google.com/uc?export=view&id=1Rkc_LNI7QAWvUZYhB2x9NRl8D5KqdVZS)\n",
        "  \n"
      ]
    },
    {
      "cell_type": "code",
      "metadata": {
        "id": "QTw-KmyY7cKO"
      },
      "source": [
        "lst_n = [int(x) for x in input()]\n",
        "n = ''.join(str(x) for x in lst_n)\n",
        "\n",
        "count = 0 # Kiểm tra trường hợp 1 có được thực hiện\n",
        "mod = int(n) % 3\n",
        "len_n = len(lst_n)\n",
        "\n",
        "def IncreaseElement(ele, val):\n",
        "    if ele + val <= 9:\n",
        "        return IncreaseElement(ele + val, val)\n",
        "    else:\n",
        "        return ele\n",
        "\n",
        "# Trường hợp 1: các chữ số sẽ được TĂNG để đạt giá trị lớn nhất chia hết 3\n",
        "# Khi n chia hết \n",
        "if mod == 0:\n",
        "    for i in range(len_n):\n",
        "        incEle = IncreaseElement(lst_n[i], 3)\n",
        "        if lst_n[i] == incEle:\n",
        "            continue\n",
        "        else:\n",
        "            lst_n[i] = incEle\n",
        "            count = 1\n",
        "            break\n",
        "# chia dư 1\n",
        "elif mod == 1:\n",
        "    for i in range(len_n):\n",
        "        if lst_n[i] + 2 <= 9:\n",
        "            incEle = IncreaseElement(lst_n[i] + 2, 3)\n",
        "            if lst_n[i] + 2 == incEle:\n",
        "                lst_n[i] += 2\n",
        "                count = 1\n",
        "                break\n",
        "            else:\n",
        "                lst_n[i] = incEle\n",
        "                count = 1\n",
        "                break\n",
        "#chia dư 2\n",
        "elif mod == 2:\n",
        "    for i in range(len_n):\n",
        "        if lst_n[i] + 1 <= 9:\n",
        "            incEle = IncreaseElement(lst_n[i] + 1, 3)\n",
        "            if lst_n[i] + 1 == incEle:\n",
        "                lst_n[i] += 1\n",
        "                count = 1\n",
        "                break\n",
        "            else:\n",
        "                lst_n[i] = incEle\n",
        "                count = 1\n",
        "                break\n",
        "\n",
        "# Trường hợp 2: các chữ số bị GIẢM để đạt được giá trị lớn nhất chia hết 3\n",
        "if count != 1:\n",
        "    if mod == 0:\n",
        "        for i in range(len_n-1, -1, -1):\n",
        "            if lst_n[i] - 3 > 0:\n",
        "                lst_n[i] -= 3\n",
        "                break\n",
        "    elif mod == 1:\n",
        "        for i in range(len_n-1, -1, -1):\n",
        "            if lst_n[i] - 1 > 0:\n",
        "                lst_n[i] -= 1\n",
        "                break\n",
        "    else:\n",
        "        for i in range(len_n-1, -1, -1):\n",
        "            if lst_n[i] - 2 > 0:\n",
        "                lst_n[i] -= 2\n",
        "                break\n",
        "\n",
        "print(int(''.join(str(x) for x in lst_n)))\n",
        "\n"
      ],
      "execution_count": null,
      "outputs": []
    },
    {
      "cell_type": "markdown",
      "metadata": {
        "id": "MOuneDo7_ybm"
      },
      "source": [
        "##Nhận định cá nhân\n",
        "###Ý tưởng đầu tiên:\n",
        "* Sử dụng quay lui để tìm kiếm, bắt đầu từ chữ số đầu tiền, nếu không tìm được số mới thì sẽ giữ nguyên và dời qua chữ số tiếp theo.\n",
        "* Nhập đầu vào là một string, và thay đổi dựa vào hàm str.replace()\n",
        "* **sai lầm**:\n",
        "  * Hàm replace() cần biết trước chuỗi con cần thay là chữ số nào. \n",
        "  * Hàm replace() sẽ thay tất cả các chuỗi con có trong chuỗi chữ số. \n"
      ]
    }
  ]
}