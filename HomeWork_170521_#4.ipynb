{
  "nbformat": 4,
  "nbformat_minor": 0,
  "metadata": {
    "colab": {
      "name": "HomeWork_170521_#4.ipynb",
      "provenance": [],
      "authorship_tag": "ABX9TyMKs4IFmFeSF1fRzHUb/e1n",
      "include_colab_link": true
    },
    "kernelspec": {
      "name": "python3",
      "display_name": "Python 3"
    },
    "language_info": {
      "name": "python"
    }
  },
  "cells": [
    {
      "cell_type": "markdown",
      "metadata": {
        "id": "view-in-github",
        "colab_type": "text"
      },
      "source": [
        "<a href=\"https://colab.research.google.com/github/TanTruong24/CS112.L21-Algorithm-Analysis-Design/blob/main/HomeWork_170521_%234.ipynb\" target=\"_parent\"><img src=\"https://colab.research.google.com/assets/colab-badge.svg\" alt=\"Open In Colab\"/></a>"
      ]
    },
    {
      "cell_type": "markdown",
      "metadata": {
        "id": "zNo0Joq-th7b"
      },
      "source": [
        "#**Problem 1:** *Phân số*\n",
        "\n",
        "1. **Abstraction:** \n",
        "- **input:**\n",
        "  - 2 phân số đúng và tối giản $\\frac{a}{b}$ và $\\frac{c}{d}$. \n",
        "  - Mỗi phép biến đổi: $a=a+1, b=b+1$ (rút gọn phân số mới).\n",
        "\n",
        "- **output:** \n",
        " - Số phép biến đổi để $\\frac{a}{b} = \\frac{c}{d}$\n",
        " - $0$ nếu không có cách biến đổi \n",
        "2. **Pattern Recognition**: \n",
        "3. **Algorithmic Complexity:** \n",
        "4. **Algorithm designed:**\n",
        "```\n",
        "def execute(a, b, c, d):\n",
        "    count:= 0\n",
        "    while (1):\n",
        "        a:= a+1\n",
        "        b:= b+1\n",
        "        reduce fraction a/b\n",
        "        count:= count + 1\n",
        "        if a div b = c div d then\n",
        "            return count\n",
        "        if (a div b > c div d) and (count > 150) then\n",
        "            return 0\n",
        "```\n"
      ]
    },
    {
      "cell_type": "code",
      "metadata": {
        "id": "QTw-KmyY7cKO"
      },
      "source": [
        "import math\n",
        "\n",
        "def execute(a, b, c, d):\n",
        "    count = 0\n",
        "    while (1):\n",
        "        a = a+1\n",
        "        b = b+1\n",
        "        temp = math.gcd(a, b)\n",
        "        a = a//temp\n",
        "        b = b//temp\n",
        "        count += 1\n",
        "        if (a/b == c/d):\n",
        "            return count\n",
        "        if (a/b > c/d and count > 150):\n",
        "            return 0\n",
        "\n",
        "\n",
        "a = int(input())\n",
        "b = int(input())\n",
        "c = int(input())\n",
        "d = int(input())\n",
        "result = execute(a, b, c, d)\n",
        "print(result)"
      ],
      "execution_count": null,
      "outputs": []
    },
    {
      "cell_type": "markdown",
      "metadata": {
        "id": "Zyw9WviKQTtT"
      },
      "source": [
        "##Nhận định cá nhân\n",
        "###Ý tưởng và sai lầm:\n",
        "- Đầu tiên nhóm em nghĩ rằng $\\frac{a}{b}$ phải nhỏ hơn $\\frac{c}{d}$ để khi cộng $a = a+1$ và $b=b+1$ mới có thể rút gọn lại bằng $\\frac{c}{d}$. Thêm vào đó là $\\frac{a}{b} < 1$ và $\\frac{c}{d} < 1$. Tuy nhiên suy nghĩ này sai *(Sau một hồi liên tục submit)* với $\\frac{3}{2}$ và $\\frac{4}{3}$.\n",
        "- Các testcase 3, 6,7,8 gây mất thời gian nhiều, bởi nếu xét điều kiện theo đoạn chương trình dưới đây thì kết quả là **wrong**:\n",
        "```\n",
        "def execute(a, b, c, d):\n",
        "    count = 0\n",
        "    while (a/b < c/d):\n",
        "        a = a+1\n",
        "        b = b+1\n",
        "        temp = math.gcd(a, b)\n",
        "        a = a//temp\n",
        "        b = b//temp\n",
        "        count += 1\n",
        "    return count\n",
        "```\n",
        "- Một giả định đặt ra là với testcase 3,6,7,8 sẽ $a/b > c/d$ nên case đó không vào được vòng lặp nên dẫn đến $count = 0$ sai. Tuy nhiên khi thay ***while(1)***, sửa code thành\n",
        "```\n",
        "def execute(a, b, c, d):\n",
        "    count = 0\n",
        "    while (1):\n",
        "        a = a+1\n",
        "        b = b+1\n",
        "        temp = math.gcd(a, b)\n",
        "        a = a//temp\n",
        "        b = b//temp\n",
        "        count += 1\n",
        "        if (a/b == c/d):\n",
        "            break\n",
        "\n",
        "    return count\n",
        "```\n",
        "- Điều này lại dẫn đến vấn đề khác là làm cách nào để xác định không có phép biến đổi nào để $a/b \\to c/d$. Khi submit thì code lại dẫn đến các testcase trên bị ***Time Limit Exceeded***. Vậy suy ra các testcase 3,6,7,8 sẽ có $count=0$, việc lặp lại nhiều lần dẫn đến lỗi thời gian. Em đã thử thêm một điều kiện như đoạn mã dưới đây. Bởi em suy nghĩ, nếu mình đã biết nó là $count=0$ thì mình chỉ việc chọn một ngưỡng *count* để gán cho bằng 0 và thoát vòng lặp. Sau nhiều lần thử ngưỡng thì $count > 150$ sẽ pass cả 4 testcase trên và 1 số test tương tự hoặc các test có count < 150. Tuy nhiên các test từ test 10 để đi bị sai hoàn toàn. Điều này lại chứng tỏ các test cuối có count lớn hơn 150.\n",
        "```\n",
        "def execute(a, b, c, d):\n",
        "    count = 0\n",
        "    while (1):\n",
        "        a = a+1\n",
        "        b = b+1\n",
        "        temp = math.gcd(a, b)\n",
        "        a = a//temp\n",
        "        b = b//temp\n",
        "        count += 1\n",
        "        if (count > 150):\n",
        "            count = 0\n",
        "            break\n",
        "        elif (a/b == c/d):\n",
        "            return count\n",
        "\n",
        "    return count\n",
        "```\n",
        "- Sau nhiều lần chỉnh sửa thì em có có đoạn code đúng như phần trên. Cũng rút ra được một điều kiện hoàn thiện thoát vòng lặp *(đoạn mã dưới)*. Tuy nhiên đây là một cách không tổng quát, nếu ngưỡng *count* trải rọng hơn thì sẽ khó khăn. Nên đây vẫn là cách làm chưa tổng quát, nhưng hiện giờ nhóm vẫn chưa suy nghĩ ra cách nào khác.\n",
        "```\n",
        "if (a/b == c/d):\n",
        "    return count\n",
        "if (a/b > c/d and count > 150):\n",
        "    return 0\n",
        "```\n",
        "\n"
      ]
    },
    {
      "cell_type": "markdown",
      "metadata": {
        "id": "TMkp6fPK7gKg"
      },
      "source": [
        "#**Problem 1:** *Sửa hàng rào*\n",
        "\n",
        "1. **Abstraction**: \\\n",
        "- **input**\n",
        "  - $m$ tấm gỗ thừa; $n$ tấm hàng rào, $\\textrm{width}(m) = \\textrm{width}(n)$.\n",
        "  - $\\textrm{height}_{ni} = a_i (i = 1 ÷ n)$; $m$ được xếp chồng, tính từ trên xuống $\\textrm{height}_{mj} = b_j $ $(j = 1 ÷ m)$\n",
        "  - Dọc $n_i$, chọn 1 tấm $m_j$ bất kỳ từ trên xuống, tấm bỏ không lấy lại.\n",
        "\n",
        "- **output**: \n",
        "  - $\\textrm{min_height}(a_i + b_j)$ \n",
        "  - Chọn $m_j$ có $j = min$ nếu tồn tại nhiều cách đóng khác nhau.\n",
        "2. **Pattern Recognition**: .\n",
        "3. **Algorithmic Complexity:**\n",
        "4. **Algorithm designed:**"
      ]
    },
    {
      "cell_type": "markdown",
      "metadata": {
        "id": "_Se6vyYk65QX"
      },
      "source": [
        "##Nhận định cá nhân\n",
        "###Ý tưởng đầu tiên:\n",
        "\n",
        "##Ý tưởng sau lần đầu tiên:\n",
        "\n",
        "**Hướng thực hiện:**"
      ]
    }
  ]
}