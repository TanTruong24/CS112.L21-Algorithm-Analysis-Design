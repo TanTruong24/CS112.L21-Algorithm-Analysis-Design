{
  "nbformat": 4,
  "nbformat_minor": 0,
  "metadata": {
    "colab": {
      "name": " Branch-and-Bound.ipynb",
      "provenance": [],
      "collapsed_sections": [],
      "authorship_tag": "ABX9TyPBCTa/O9YGPJuVwlzyyu27",
      "include_colab_link": true
    },
    "kernelspec": {
      "name": "python3",
      "display_name": "Python 3"
    },
    "language_info": {
      "name": "python"
    }
  },
  "cells": [
    {
      "cell_type": "markdown",
      "metadata": {
        "id": "view-in-github",
        "colab_type": "text"
      },
      "source": [
        "<a href=\"https://colab.research.google.com/github/TanTruong24/CS112.L21-Algorithm-Analysis-Design/blob/main/Algorithms/Completed-search_Branch-Bound/Branch_and_Bound.ipynb\" target=\"_parent\"><img src=\"https://colab.research.google.com/assets/colab-badge.svg\" alt=\"Open In Colab\"/></a>"
      ]
    },
    {
      "cell_type": "markdown",
      "metadata": {
        "id": "2_vvBt3cS_ci"
      },
      "source": [
        "<center> <h1> <b>Nhánh cận <center> </h1> </b>\n",
        "<center> <h1> <i>(Branch and Bound) <center> </h1> </i>\n"
      ]
    },
    {
      "cell_type": "markdown",
      "metadata": {
        "id": "L25yaOZ9TDOH"
      },
      "source": [
        "* *Bài viết được tổng hợp và dịch từ nhiều nguồn bởi* ***Trương Thế Tấn***\n",
        "- *Trong quá trình tổng hợp, dịch, soạn lại và viết code có thể có sai sót, mong mọi người đóng góp để hoàn thiện hơn.*"
      ]
    },
    {
      "cell_type": "markdown",
      "metadata": {
        "id": "vVMli4YRTFOP"
      },
      "source": [
        "#**I. LÝ THUYẾT**"
      ]
    },
    {
      "cell_type": "markdown",
      "metadata": {
        "id": "Ws_YQRPgXaO1"
      },
      "source": [
        "##**1. Khái niệm**\n",
        "\n",
        "- Nhánh và ràng buộc *(Nhánh cận)* (BB, B&B hoặc BnB ) là một mô hình thiết kế thuật toán cho các bài toán ***tối ưu hóa tổ hợp*** *(Combinatorial optimization)* và ***Tối ưu rời rạc*** *(Discrete optimization)*, cũng như tối ưu hóa toán học.\n",
        "\n",
        "- Thuật toán **BB** bao gồm liệt kê một cách có hệ thống các giải pháp ứng viên bằng phương pháp tìm kiếm không gian trạng thái: tập hợp các nghiệm ứng viên được coi như tạo thành một cây gốc với tập hợp đầy đủ ở gốc. Thuật toán khám phá các nhánh của cây này, đại diện cho các tập con của tập giải pháp. Trước khi liệt kê các giải pháp ứng cử viên của một nhánh, nhánh được kiểm tra dựa trên các giới hạn ước tính trên và dưới của giải pháp tối ưu và bị loại bỏ nếu nó không thể tạo ra giải pháp tốt hơn giải pháp tốt nhất được tìm thấy cho đến nay bằng thuật toán.\n",
        "\n",
        "- **BB** là một dạng cải tiến của ***Phương pháp Quay lui*** *(Backtracking)* dùng để giải quyết *bài toán tối ưu*. Thay vì duyệt qua tất cả trường hợp, nếu ta đến một vị trí mà **giá trị của hàm mục tiêu tại đó và các điểm về sau chắc chắn không tốt** thì quay lại luôn.\n",
        "  - *Bài toán tối ưu:* Trong nhiều bài toán thực tế yêu cầu tìm nghiệm thỏa mãn những yêu cầu nào đó và nghiệm này phải tốt nhất theo tiêu chí cụ thể.\n",
        "\n",
        "- Thuật toán phụ thuộc vào việc ước tính hiệu quả giới hạn dưới và giới hạn trên của các vùng / nhánh của không gian tìm kiếm. Nếu không có giới hạn nào khả dụng, thuật toán sẽ chuyển thành tìm kiếm toàn diện.\n"
      ]
    },
    {
      "cell_type": "markdown",
      "metadata": {
        "id": "NvIG_ryYlB08"
      },
      "source": [
        "###**1.1. Bài toán tối ưu hóa rời rạc**\n",
        "\n",
        "- Trong tối ưu hóa rời rạc , một số hoặc tất cả các biến trong một mô hình được yêu cầu thuộc một ***tập hợp rời rạc***. *(Trái ngược với tối ưu hóa liên tục, trong đó các biến được phép nhận bất kỳ giá trị nào trong một phạm vi giá trị)*í\n",
        "  - **Ví dụ:** chẳng hạn như số nguyên , đồ thị và các câu lệnh trong logic. Các đối tượng rời rạc thường có thể được liệt kê bởi số nguyên\n",
        "\n",
        "- Ba nhánh đáng chú ý của tối ưu hóa rời rạc là:\n",
        "\n",
        "  - Tối ưu hóa tổ hợp\n",
        "  - Lập trình số nguyên\n",
        "  - lập trình ràng buộc"
      ]
    },
    {
      "cell_type": "markdown",
      "metadata": {
        "id": "PLdtvKLmkJNo"
      },
      "source": [
        "####**1.1.1. Bài toán tối ưu tổ hợp**\n",
        "\n",
        "- Tối ưu hóa tổ hợp nhằm mục đích sử dụng các kỹ thuật tổ hợp để giải quyết các vấn đề tối ưu hóa rời rạc. Bài toán tối ưu hóa rời rạc tìm cách xác định giải pháp tốt nhất có thể từ một tập hợp hữu hạn các khả năng.\n",
        "\n",
        "  - Từ quan điểm khoa học máy tính: tối ưu hóa tổ hợp tìm cách cải thiện một thuật toán bằng cách sử dụng các phương pháp toán học để giảm kích thước của tập hợp các giải pháp khả thi hoặc để làm cho việc tìm kiếm tự nó nhanh hơn. \n",
        "  - Từ góc độ tổ hợp, nó diễn giải các câu hỏi phức tạp về một tập hợp cố định của các đối tượng mà nhiều người đã biết: tập hợp, đồ thị, đa đỉnh và ma trận. \n",
        "\n",
        "- Các vấn đề tối ưu hóa tổ hợp:\n",
        "\n",
        "  * [Knapsack problem](https://en.wikipedia.org/wiki/Knapsack_problem)\n",
        "  * [Assignment problem](https://en.wikipedia.org/wiki/Assignment_problem)\n",
        "  * [Integer programming](https://en.wikipedia.org/wiki/Integer_programming)\n",
        "  * [Minimum spanning tree](https://en.wikipedia.org/wiki/Minimum_spanning_tree)\n",
        "  * [Nurse scheduling problem](https://en.wikipedia.org/wiki/Nurse_scheduling_problem)\n",
        "  * [Set cover problem](https://en.wikipedia.org/wiki/Set_cover_problem)\n",
        "  * [Job shop scheduling](https://en.wikipedia.org/wiki/Job_shop_scheduling)\n",
        "  * [Traveling salesman problem](https://en.wikipedia.org/wiki/Traveling_salesman_problem)\n",
        "  * [Vehicle rescheduling problem](https://en.wikipedia.org/wiki/Vehicle_rescheduling_problem)\n",
        "  * [Vehicle routing problem](https://en.wikipedia.org/wiki/Vehicle_routing_problem)"
      ]
    },
    {
      "cell_type": "markdown",
      "metadata": {
        "id": "juJymbcCwUMA"
      },
      "source": [
        "##**2. Tổng quan**\n",
        "\n"
      ]
    },
    {
      "cell_type": "markdown",
      "metadata": {
        "id": "425Z9vuGxjY3"
      },
      "source": [
        "###**2.1. Mục tiêu**\n",
        "\n",
        "- Mục tiêu của thuật toán nhánh và giới hạn là tìm một giá trị $x$ lớn nhất hoặc nhỏ nhất của một hàm có giá trị thực $f(x)$, được gọi là một ***hàm mục tiêu***, trong số một tập $S$ của các nghiệm có thể chấp nhận hoặc ứng viên . Tập hợp $S$ được gọi là ***không gian tìm kiếm*** *(hay vùng khả thi)*."
      ]
    },
    {
      "cell_type": "markdown",
      "metadata": {
        "id": "zWIhA6FIw_FL"
      },
      "source": [
        "###**2.2. Nguyên tắc hoạt động**"
      ]
    },
    {
      "cell_type": "markdown",
      "metadata": {
        "id": "lKhSvwuWwpJ9"
      },
      "source": [
        "Thuật toán B&B hoạt động theo **hai nguyên tắc**:\n",
        "\n",
        "1. Nó *phân chia* một cách đệ quy không gian tìm kiếm thành những không gian nhỏ hơn, sau đó thu nhỏ $f(x)$ trên những không gian nhỏ hơn này - sự phân tách được gọi là ***sự phân nhánh***.\n",
        "2. Phân nhánh có thể sử dụng *Brute-force* để liệt kê tất cả các ứng viên và kiểm tra chúng. Để cải thiện hiệu suất của tìm kiếm *brute-force*, thuật toán *B&B* theo dõi các giới hạn ở mức tối thiểu mà nó đang cố gắng tìm và sử dụng các giới hạn này để \"***cắt bớt***\" *không gian tìm kiếm*, loại bỏ các giải pháp ứng viên mà nó có thể chứng minh là sẽ không chứa một giải pháp tối ưu."
      ]
    },
    {
      "cell_type": "markdown",
      "metadata": {
        "id": "laQpPajP3R6o"
      },
      "source": [
        "###**2.3. Cụ thể ý tưởng**\n",
        "\n",
        "- Thuật toán nhánh và thuật toán ràng buộc bao gồm việc liệt kê từng bước các giải pháp ứng viên khả thi bằng cách khám phá toàn bộ không gian tìm kiếm. Với tất cả các giải pháp khả thi, trước tiên, chúng tôi xây dựng một cây quyết định gốc. Nút gốc đại diện cho toàn bộ không gian tìm kiếm:\n",
        "\n",
        "![root](https://drive.google.com/uc?export=view&id=1E9YN3Yj0cZUGTPN925GOPdZ5wccrGOWB)\n",
        "\n",
        "- Ở đây, mỗi nút con *(child node)* là một giải pháp từng phần và là một phần của tập giải pháp. Trước khi xây dựng cây quyết định gốc *(rooted decision tree)*, chúng tôi đặt **giới hạn trên và giới hạn dưới** *(upper and lower bound)* cho một vấn đề đã cho dựa trên giải pháp tối ưu. Ở mỗi cấp, chúng ta cần đưa ra quyết định về việc đưa nút nào vào bộ giải pháp. Ở mỗi cấp độ, chúng ta khám phá nút có giới hạn tốt nhất. Bằng cách này, chúng ta có thể tìm ra giải pháp tốt nhất và tối ưu một cách nhanh chóng.\n",
        "\n",
        "- Tuy nhiên, vấn đề quan trọng nhất là làm sao để tìm được cận trên và cận dưới của vấn đề???"
      ]
    },
    {
      "cell_type": "markdown",
      "metadata": {
        "id": "t2k7nEaJBEQK"
      },
      "source": [
        "##**4. Thuật toán phổ quát**\n",
        "\n",
        "```\n",
        "begin\n",
        "  activeset:= {∅};\n",
        "  bestval:= NULL;\n",
        "  currentbest:= NULL;\n",
        "\n",
        "  while activeset is not empty do\n",
        "\n",
        "    choose a branching node, node k ∈ activeset;\n",
        "    remove node k from activeset;\n",
        "    generate the children of node k, child i, i = 1,. . . ,nk,\n",
        "    and corresponding optimistic bounds obi;\n",
        "\n",
        "    for i = 1 to nk do\n",
        "\n",
        "      if obi worse than bestval then kill child i;\n",
        "\n",
        "      else if child is a complete solution then\n",
        "        bestval:= obi, currentbest:= child i;\n",
        "\n",
        "      else add child i to activeset\n",
        "\n",
        "    end for\n",
        "\n",
        "  end while\n",
        "end\n",
        "```\n",
        "\n",
        "Trên đây là mã giả cơ bản rất đơn giản của **B&B**.\n",
        "\n",
        "- Tại đây, *currentbest* lưu trữ giải pháp hoàn chỉnh tốt nhất được tìm thấy cho đến nay, còn được gọi là giải pháp đương nhiệm.\n",
        "\n",
        "- Giá trị của *currentbest* là giá trị tốt nhất. Giá trị này được sử dụng để xem liệu nó có đáng để mở rộng (tạo con của) các nút hay không.\n",
        "\n",
        "- Giới hạn *obi* là ước lượng lạc quan về mức độ tốt của giải pháp từng phần (hoặc nút) sau khi hoàn thành; nếu nó không tốt hơn *currentbest*, thì không cần đánh giá các nút con của nút đó. *(vì vậy chúng tôi không thêm nó vào activeset)*.\n",
        "\n",
        "- Đây là một mã giả chung cho của **B&B**, đối với các bài toàn cụ thể sẽ có các biến thể khác nhau."
      ]
    },
    {
      "cell_type": "markdown",
      "metadata": {
        "id": "8CkcMNwy9qVP"
      },
      "source": [
        "##**3. Khi nào B&B là lựa chọn tốt**"
      ]
    },
    {
      "cell_type": "markdown",
      "metadata": {
        "id": "hv8dAcSHTItR"
      },
      "source": [
        "#**II. THỰC HÀNH**\n"
      ]
    },
    {
      "cell_type": "markdown",
      "metadata": {
        "id": "gGXKMZAPTMbu"
      },
      "source": [
        "#**III. THAM KHẢO**\n",
        "\n",
        "1. https://en.wikipedia.org/wiki/Branch_and_bound\n",
        "2. https://brilliant.org/wiki/combinatorial-optimization/#algorithms\n",
        "3. https://en.wikipedia.org/wiki/Combinatorial_optimization"
      ]
    }
  ]
}