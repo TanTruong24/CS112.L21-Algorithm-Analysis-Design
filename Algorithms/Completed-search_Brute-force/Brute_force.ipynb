{
  "nbformat": 4,
  "nbformat_minor": 0,
  "metadata": {
    "colab": {
      "name": "Brute force.ipynb",
      "provenance": [],
      "authorship_tag": "ABX9TyPmhieVvYdfN1zqnjfTrcGH",
      "include_colab_link": true
    },
    "kernelspec": {
      "name": "python3",
      "display_name": "Python 3"
    },
    "language_info": {
      "name": "python"
    }
  },
  "cells": [
    {
      "cell_type": "markdown",
      "metadata": {
        "id": "view-in-github",
        "colab_type": "text"
      },
      "source": [
        "<a href=\"https://colab.research.google.com/github/TanTruong24/CS112.L21-Algorithm-Analysis-Design/blob/main/Algorithms/Completed-search_Brute-force/Brute_force.ipynb\" target=\"_parent\"><img src=\"https://colab.research.google.com/assets/colab-badge.svg\" alt=\"Open In Colab\"/></a>"
      ]
    },
    {
      "cell_type": "markdown",
      "metadata": {
        "id": "G_G5LaKt-N_0"
      },
      "source": [
        "<center> <h1> <b>THUẬT TOÁN VÉT VẠN <center> </h1> </b>\n",
        "<center> <h1> <i>(Brute force) <center> </h1> </i>\n"
      ]
    },
    {
      "cell_type": "markdown",
      "metadata": {
        "id": "r7pYnMWE-Rmy"
      },
      "source": [
        "* *Bài viết được tổng hợp và dịch từ nhiều nguồn bởi* ***Trương Thế Tấn***\n",
        "- *Trong quá trình tổng hợp, dịch, soạn lại và viết code có thể có sai sót, mong mọi người đóng góp để hoàn thiện hơn.*"
      ]
    },
    {
      "cell_type": "markdown",
      "metadata": {
        "id": "_xPL7aW--ZnP"
      },
      "source": [
        "#**I. LÝ THUYẾT**"
      ]
    },
    {
      "cell_type": "markdown",
      "metadata": {
        "id": "_lhB8KBN_666"
      },
      "source": [
        "##**1. Khái niệm**\n",
        "\n",
        "- Là một kỹ thuật có thể dùng để giải quyết cho mọi bài toán bằng cách *liệt kê* một cách có hệ thống ***tất cả các ứng viên*** có thể có cho giải pháp và *kiểm tra* xem mỗi ứng viên có đáp ứng yêu cầu của bài toán hay không.\n",
        "- *Brute force* (hoặc *exhaustive search*) được gọi là ***vét cạn***, nhưng đâu đó nó vẫn được gọi là thuật toán \"*trâu bò*\" hay \"*vũ phu*\". Thuật toán *brute force* là một cách tiếp cận khá đơn giản để giải quyết một vấn đề. Nó dựa trên thử và sai trong đó lập trình viên cố gắng chỉ sử dụng sức mạnh xử lý nhanh của máy tính để giải quyết vấn đề, thay vì áp dụng một số thuật toán và kỹ thuật tiên tiến được phát triển bằng trí thông minh của con người. Đây là một cách tiếp cận ngây thơ được sử dụng để giải quyết một vấn đề, tuy nhiên nó có thể không phải là cách tiếp cận tối ưu nhất, vì nó có thể làm tăng độ phức tạp cả về không gian và thời gian.\n",
        "\n",
        "  - **Ví dụ:** Giả sử mật khẩu facebook của bạn độ dài 8 ký tự. Và mật khẩu bạn chỉ gồm số (0-9) và chữ thường (a-z). Bây giờ nếu người khác muốn xâm nhập vào tài khoản của bạn, một điều khả thi là họ có thể làm là tạo tất cả các mật khẩu có thể tuân theo tiêu chí này và thử từng mật khẩu một. Trong trường hợp họ biết mật khẩu bạn chỉ gồm chữ thường và số thì họ phải tạo và thử $36^8$ lần. Con số này sẽ lớn hơn rất rất nhiều nếu bao gồm cả ký tự, chữ in hoa. (Độ phức tạp $O (m^n)$)"
      ]
    },
    {
      "cell_type": "markdown",
      "metadata": {
        "id": "LX5onXCvMbdw"
      },
      "source": [
        "##**2. Thuật toán phổ quát**"
      ]
    },
    {
      "cell_type": "markdown",
      "metadata": {
        "id": "b7xYWB5NMhaS"
      },
      "source": [
        "```\n",
        "c ← first(P)\n",
        "while c ≠ Λ do\n",
        "    if valid(P,c) then\n",
        "        output(P, c)\n",
        "    c ← next(P, c)\n",
        "end while\n",
        "```"
      ]
    },
    {
      "cell_type": "markdown",
      "metadata": {
        "id": "nI74Hi6tk4WC"
      },
      "source": [
        "##**Khi nào sử dụng Brute force**"
      ]
    },
    {
      "cell_type": "markdown",
      "metadata": {
        "id": "9FIGoQkueUQY"
      },
      "source": [
        "###**Ưu điểm**\n",
        "1. Không giống như một số chiến lược khác, *brute force* có thể áp dụng cho rất nhiều vấn đề. Nó được xem là \"***Thuốc trị bách bệnh***\" cho mọi loại vấn đề.\n",
        "2. Đối với một số vấn đề quan trọng — ví dụ: sắp xếp, tìm kiếm, nhân ma trận, so khớp chuỗi — cách tiếp cận *brute-force* mang lại các thuật toán hợp lý có ít nhất một số giá trị thực tế mà không có giới hạn về kích thước phiên bản.\n",
        "3. Chi phí thiết kế một thuật toán hiệu quả hơn có thể không đáng nếu chỉ một vài trường hợp của vấn đề cần được giải quyết và một thuật toán *brute-force* có thể giải quyết những trường hợp đó với tốc độ chấp nhận được. \n",
        "4. Ngay cả khi nói chung là quá kém hiệu quả, một thuật toán *brute-force* vẫn có thể hữu ích để giải quyết các trường hợp kích thước nhỏ của một vấn đề. \n",
        "5. Thuật toán *brute-force* có thể phục vụ mục đích lý thuyết hoặc giáo dục quan trọng như một thước đo để đánh giá các lựa chọn thay thế hiệu quả hơn để giải quyết một vấn đề."
      ]
    },
    {
      "cell_type": "markdown",
      "metadata": {
        "id": "vBWEQWO7qXyQ"
      },
      "source": [
        "###**Nhược điểm**\n",
        "1. Nó không hiệu quả và do đó vô dụng khi giải quyết các vấn đề đồng nhất có độ phức tạp cao hơn\n",
        "\n",
        "2. Không thích hợp để giải quyết các vấn đề có cấu trúc phân cấp và liên quan đến các phép toán logic."
      ]
    },
    {
      "cell_type": "markdown",
      "metadata": {
        "id": "efUMyOyU-jEe"
      },
      "source": [
        "#**II. THỰC HÀNH**"
      ]
    },
    {
      "cell_type": "markdown",
      "metadata": {
        "id": "N5yodonY-lhq"
      },
      "source": [
        "#**III. THAM KHẢO**\n",
        "\n",
        "1. https://en.wikipedia.org/wiki/Brute-force_search\n",
        "2. https://www.quora.com/What-is-a-brute-force-algorithm-3\n",
        "3. https://www.quora.com/What-is-the-brute-force-method"
      ]
    }
  ]
}