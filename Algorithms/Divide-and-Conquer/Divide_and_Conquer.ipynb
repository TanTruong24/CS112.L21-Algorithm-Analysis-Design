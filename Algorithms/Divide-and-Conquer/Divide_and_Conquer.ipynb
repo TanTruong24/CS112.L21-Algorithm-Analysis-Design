{
  "nbformat": 4,
  "nbformat_minor": 0,
  "metadata": {
    "colab": {
      "name": "Divide and Conquer.ipynb",
      "provenance": [],
      "authorship_tag": "ABX9TyOroKpjjVA3YTe7gbuhZwZb",
      "include_colab_link": true
    },
    "kernelspec": {
      "name": "python3",
      "display_name": "Python 3"
    },
    "language_info": {
      "name": "python"
    }
  },
  "cells": [
    {
      "cell_type": "markdown",
      "metadata": {
        "id": "view-in-github",
        "colab_type": "text"
      },
      "source": [
        "<a href=\"https://colab.research.google.com/github/TanTruong24/CS112.L21-Algorithm-Analysis-Design/blob/main/Algorithms/Divide-and-Conquer/Divide_and_Conquer.ipynb\" target=\"_parent\"><img src=\"https://colab.research.google.com/assets/colab-badge.svg\" alt=\"Open In Colab\"/></a>"
      ]
    },
    {
      "cell_type": "markdown",
      "metadata": {
        "id": "07VCvt_UkE7l"
      },
      "source": [
        "<center> <h1> <b>THUẬT TOÁN CHIA ĐỂ TRỊ <center> </h1> </b>\n",
        "<center> <h1> <i>(Divide and Conquer) <center> </h1> </i>\n"
      ]
    },
    {
      "cell_type": "markdown",
      "metadata": {
        "id": "ZSOVa2lbcDSj"
      },
      "source": [
        "* *Bài viết được tổng hợp và dịch từ nhiều nguồn bởi* ***Trương Thế Tấn***\n",
        "- *Trong quá trình tổng hợp, dịch và viết code có thể có sai sót, mong mọi người đóng góp để hoàn thiện hơn.*"
      ]
    },
    {
      "cell_type": "markdown",
      "metadata": {
        "id": "DIGtSDnykTYR"
      },
      "source": [
        "##**I. LÝ THUYẾT**\n"
      ]
    },
    {
      "cell_type": "markdown",
      "metadata": {
        "id": "QJo5HEUOkjV5"
      },
      "source": [
        "##**1. Khái niệm**\n",
        "- Chia để trị là một phương pháp áp dụng cho các bài toán có thể giải quyết bằng cách chia nhỏ ra thành các bài toán con từ việc giải quyết các bài toán con này. Sau đó lời giải của các bài toán nhỏ được tổng hợp lại thành lời giải cho bài toán ban đầu.\n",
        "\n",
        " ![khai-niem](https://drive.google.com/uc?export=view&id=1KqHQFpKEv4hX01BAbc8czhhKAVKwwdb4)"
      ]
    },
    {
      "cell_type": "markdown",
      "metadata": {
        "id": "UuukFavnnmlN"
      },
      "source": [
        "##**2. Các bước giải quyết bài toán bằng Chia để trị**\n",
        "\n",
        "- **Bước 1:** Chia nhỏ *(Divide/Break)*\n",
        "  - Trong bước này, chúng ta chia bài toán ban đầu thành các bài toán con. Mỗi bài toán con nên là một phần của bài toán ban đầu. Nói chung, bước này sử dụng ***phương pháp đệ quy*** để chia nhỏ các bài toán cho đến khi không thể chia thêm nữa. Khi đó, các bài toán con được gọi là *atomic – nguyên tử*, nhưng chúng vẫn biểu diễn một phần nào đó của bài toán ban đầu.\n",
        "\n",
        "- **Bước 2:** Giải bài toán con *(Conquer/Solve)*\n",
        "  - Tại bước này ta sẽ phải tìm phương án để giải quyết cho bài toán con một cách cụ thể.\n",
        "\n",
        "- **Bước 3:** Kết hợp lời giải (*Merge/Combine)*\n",
        "  - Sau khi các bài toán con đã được giải, trong bước này chúng ta sẽ kết hợp chúng một cách đệ qui để tìm ra giải pháp cho bài toán ban đầu."
      ]
    },
    {
      "cell_type": "markdown",
      "metadata": {
        "id": "WlCJ_hcYcltM"
      },
      "source": [
        "##**3. Dạng bài toán**\n",
        "\n",
        "Cấu trúc của thuật toán chia để trị áp dụng cho một bài toán P cho trước có dạng như sau:\n",
        "- **Trường hợp cơ sở** *(base case)*: Khi bài toán con I của bài toán P đủ nhỏ, hãy trả lại câu trả lời P (I) trực tiếp hoặc sử dụng một thuật toán khác, thường đơn giản hơn, rất phù hợp cho các bài toán nhỏ.\n",
        "- **Bước quy nạp:**\n",
        "  1. **Divide**: Chia I thành một số bài toán nhỏ hơn của cùng một vấn đề P.\n",
        "  2. **Recurse1:** Lặp lại từng bài toán nhỏ hơn để nhận được câu trả lời của chúng.\n",
        "  3. **Combine:** Kết hợp các câu trả lời để tạo ra một câu trả lời cho bài toán ban đầu."
      ]
    },
    {
      "cell_type": "markdown",
      "metadata": {
        "id": "mynm0QicSlWZ"
      },
      "source": [
        "##**4. Ví dụ**"
      ]
    },
    {
      "cell_type": "markdown",
      "metadata": {
        "id": "XcX5LhNRTBTv"
      },
      "source": [
        "###**4.1. Merge Sort**\n",
        "- ***Merge Sort*** *(sắp xếp trộn/hợp nhất)* là một thuật toán sắp xếp hiệu quả với độ phức tạp O (nlog n) và nó sử dụng phương pháp chia để trị. \n",
        "- Các thuật toán hoạt động như sau:\n",
        "  - **Divide:** Chia dãy thành hai dãy con có kích thước bằng nhau, mỗi dãy n / 2 phần tử\n",
        "  - **Conquer:** Sắp xếp đệ quy hai chuỗi con bằng cách sử dụng sắp xếp hợp nhất.\n",
        "  - **Combine:** Hợp nhất hai chuỗi con đã được sắp xếp để tạo ra một chuỗi được sắp xếp duy nhất.\n",
        "\n",
        "- **Các bước giải quyết**\n",
        "\n",
        "```\n",
        "    Recursive Call: mergeSort(A[], l, r)\n",
        "```\n",
        "  - ***Divide***: Tính chỉ số giữa của mảng.\n",
        "  - ***Conquer*** : Giải đệ quy hai bài toán con nhỏ hơn\n",
        "\n",
        "```\n",
        "    Sort the first half: mergeSort(A, l, mid)\n",
        "    Sort the second half: mergeSort(A, mid+1, r)\n",
        "```\n",
        "  - ***Combine:*** Hợp nhất hai nửa đã sắp xếp bằng hàm *merge*\n",
        "\n",
        "```\n",
        "    merge(A, l, mid, r)\n",
        "```\n",
        "  - ***Độ phức tạp:*** O (nlog n).\n",
        "\n",
        "![mergeSort](https://drive.google.com/uc?export=view&id=1cHMZWOwc5Tta7m4MievrMELAMVxYNgzH)\n",
        "\n",
        "* ***Critical Ideas to think!***\n",
        "  - Làm thế nào để triển khai thuật toán sắp xếp hợp nhất? Chúng ta có thể nghĩ về một phiên bản Lặp lại của nó không?\n",
        "  - Làm thế để có thể thiết kế thuật toán để hợp nhất hai nửa đã sắp xếp? (Đây là một cách tiếp cận hai con trỏ quan trọng)  - Trường hợp cơ bản *(base case) *của sắp xếp hợp nhất??\n",
        "  - Chúng ta có thể giải quyết các vấn đề khác bằng cách tiếp cận tương tự không?\n",
        "  - Khám phá thuật toán Chia để trị của Quicksort?"
      ]
    },
    {
      "cell_type": "markdown",
      "metadata": {
        "id": "1t7zCD501XKX"
      },
      "source": [
        "###**4.2. Binary search??**\n",
        "\n",
        "- **Bài toán:**Cho một mảng đã sắp xếp A [] có kích thước n , xác định giá trị K có tồn tại trong A không. Nếu có thì trả về ***true***, ngược lại thì trả về ***false.***\n",
        "- **Ý tưởng**\n",
        "  - Giải pháp đơn giản cho bài toán là ***Tìm kiếm tuyến tính*** để kiểm tra xem phần tử K có tồn tại hay không. Điều này sẽ làm phức tạp *O (n)*. Nhưng nếu chúng ta sử dụng thuộc tính đã sắp xếp của mảng, chúng ta có thể áp dụng phương pháp ***chia để trị*** giải quyết bài toán một cách hiệu quả với độ phức tạp O *(log n)*.\n",
        "  - Ý tưởng của tìm kiếm nhị phân là chia đều mảng và so sánh giá trị K với phần tử ở giữa. Nếu *A [mid] > K* thì K ở phần bên trái. Tương tự, nếu *A [mid] < K* thì chúng ta tìm kiếm giá trị K ở phần bên phải. \n",
        "\n",
        "![binarysearch](https://drive.google.com/uc?export=view&id=1neU12VSfHOX5d-0Hm-peHvqguf-shgsp)\n",
        "\n",
        "\n",
        "- **Các bước giải quyết**\n",
        "  1. **Divide**: Tính chỉ số giữa của mảng. if (A [mid] == k), sau đó trả về 1. Đây là trường hợp tìm kiếm thành công.\n",
        "  2. **Conque**: Giải quyết một cách đệ quy bài toán con nhỏ hơn.\n",
        "```\n",
        "  if (A[mid] = k) then return\n",
        "  if (A[mid] > k), then call binarySearch(A, l, mid-1, k) \n",
        "  if (A[mid] < k), then call binarySearch(A, mid+1, r, k)\n",
        "```\n",
        "  3. **Kết hợp**: Liệu có kết hợp ở bài toán này??\n",
        "\n",
        "- **Nhận xét:** \n",
        "  - Một vấn đề đặt ra là bài toán này liệu có phải là ***Chia để trị*** vì xét theo định nghĩ ở trên thì chúng ta phải *chia bài toán ban đầu thành các bài toán con, giải quyết các bài toán con và hợp nhất nó lại*. \n",
        "  - Tuy nhiên, Về cơ bản ***Tthuật toán tìm kiếm nhị phân*** chỉ chia không gian làm việc của nó (mảng đầu vào có thứ tự kích thước n) thành một nửa trong mỗi lần lặp. Do đó, nó chắc chắn đang triển khai chiến lược chia và kết quả là độ phức tạp về thời gian giảm xuống còn O (log n). Vì vậy, điều này nghe có vẻ như \"*chia*\"\n"
      ]
    },
    {
      "cell_type": "markdown",
      "metadata": {
        "id": "vDPtL8JdB0KJ"
      },
      "source": [
        "##**5. Ưu điểm và Hạn chế của Chi để trị**\n"
      ]
    },
    {
      "cell_type": "markdown",
      "metadata": {
        "id": "H2GUBd3NzeEO"
      },
      "source": [
        "\n",
        "###**5.1. Ưu điểm**\n",
        "- *Hiệu quả thuật toán*\n",
        "  - Mô hình chia để trị thường giúp phát hiện ra các thuật toán hiệu quả.\n",
        "  -  Chia để trị dẫn đến sự cải thiện về chi phí tiệm cận của giải pháp\n",
        "    - **Ví dụ:** Nếu (a) các trường hợp cơ sở có kích thước giới hạn không đổi, công việc tách bài toán và kết hợp các nghiệm riêng tỷ lệ với kích thước  n  của bài toán , và (b) có một số giới hạn  p của các bài toán con có kích thước ~  n / p  ở mỗi giai đoạn, khi đó chi phí của thuật toán chia để trị sẽ là O ( n  log p n ).\n",
        "\n",
        "- *Xử lý song song*\n",
        "  - Các thuật toán chia để trị được điều chỉnh một cách tự nhiên để thực thi trong các máy nhiều bộ xử lý, đặc biệt là các hệ thống bộ nhớ dùng chung trong đó việc truyền dữ liệu giữa các bộ xử lý không cần phải lên kế hoạch trước, vì các vấn đề con khác nhau có thể được thực hiện trên các bộ xử lý khác nhau.\n",
        "\n",
        "- *Sử dụng hiệu quả bộ nhớ đệm*\n",
        "  - Lý do là khi một vấn đề phụ đủ nhỏ, về nguyên tắc, nó và tất cả các vấn đề phụ của nó có thể được giải quyết trong bộ nhớ cache mà không cần truy cập vào bộ nhớ chính chậm hơn\n",
        "\n"
      ]
    },
    {
      "cell_type": "markdown",
      "metadata": {
        "id": "e_cTjUNjBswv"
      },
      "source": [
        "###**5.2. Hạn chế**\n",
        "\n",
        "- Việc phân rã vấn đề có thể rất phức tạp và do đó không thực sự thích hợp để phân chia và chinh phục.\n",
        "- Bản chất đệ quy của giải pháp có thể dẫn đến việc trùng lặp các vấn đề con, các giải pháp động / ghi nhớ có thể tốt hơn trong một số trường hợp này, như Fibonacci.\n",
        "- Đệ quy vào các trường hợp cơ sở nhỏ / nhỏ có thể dẫn đến các ngăn xếp đệ quy lớn và hiệu quả có thể bị mất nếu không áp dụng các giải pháp sớm hơn cho các trường hợp cơ sở lớn hơn."
      ]
    },
    {
      "cell_type": "markdown",
      "metadata": {
        "id": "KaY4PS5WH7VP"
      },
      "source": [
        "##**6. Khi nào sử dụng Chia để trị**"
      ]
    },
    {
      "cell_type": "markdown",
      "metadata": {
        "id": "rSHTJqd9EItt"
      },
      "source": [
        "###**6.1. Khi nào nên sử dụng**\n",
        "\n",
        "- Một vấn đề có thể được giải quyết bằng cách sử dụng **chia để trị** khi bài toán đã cho có thể là:\n",
        "  - Được chia thành một số bài toán con là các trường hợp nhỏ hơn của cùng một bài toán.\n",
        "  - Mỗi bài toán con có thể được giải một cách đệ quy, về cơ bản có nghĩa là mỗi trường hợp của bài toán con có bản chất giống hệt nhau.\n",
        "  - Các giải pháp của mỗi bài toán con có thể được kết hợp để giải quyết vấn đề trong tầm tay.\n",
        "\n",
        "- Khi chúng ta gặp một vấn đề tương tự như một thuật toán chia để trị phổ biến (chẳng hạn như merge sort), nó sẽ hữu ích.\n",
        "\n",
        "**Lưu ý:**\n",
        "- Chia để trị có thể tiếp cận hiệu quả khi có thể chia *Các bài toán con* phải ***không chồng chéo*** và ***độc lập***.\n",
        "\n",
        "- **Ví dụ:**\\\n",
        "Tìm một cái bút trong một căn phòng có giường, bàn, ghế và tủ. Ở đây, nhiệm vụ chính là ***Tìm bút***. Nhiệm vụ ***tìm kiếm*** này có thể được ***áp dụng độc lập mà không cần xác định lại vấn đề*** như \"tìm kiếm trên giường\", \"tìm kiếm trên ghế\", \"tìm kiếm trên bàn\", \"tìm kiếm trong tủ\". Sau đó, bạn có thể kết hợp các kết quả từ 4 kết quả này và đưa ra thông báo về việc cây bút có ở trong phòng hay không.\n",
        "  - (***Không xác định lại vấn đề*** có nghĩa là bạn thực hiện hành động tương tự trên bài toán con như trên bài toán ban đầu. Bạn không phải tìm kiếm một cô gái hay một con trâu trên các bài toán con, bạn chỉ đang tìm kiếm một cây bút)\n",
        "  - ***Khi nào thì không đáng chia trong ví dụ này:*** Khi bạn không thể chia đầu vào thành các đầu vào phụ độc lập. \"*Tìm trên gối nằm trên giường*\" trùng với \"*tìm trên giường*\". Nếu bạn làm điều này, bạn sẽ tìm kiếm chiếc gối hai lần!"
      ]
    },
    {
      "cell_type": "markdown",
      "metadata": {
        "id": "ED4-G2YYRU1H"
      },
      "source": [
        "##**7. Chia để trị so với Lập trình động và Tham lam**"
      ]
    },
    {
      "cell_type": "markdown",
      "metadata": {
        "id": "lKA_erBFRgEF"
      },
      "source": [
        "###**7.1. So sánh Chia để trị (D&C) và Quy hoạch động (DP)**\n",
        "- **Giống nhau**\n",
        "  - Đều chia bài toán lớn thành các bài toán con\n",
        "\n",
        "- **Khác biệt**\n",
        "  - Vấn đề con của **DP** chỉ được giải quyết **một lần** và **không đệ quy**. Chìa khóa của **DP** là **ghi nhớ** và **lập bảng**.\n",
        "  - Trong **D&C** các vấn đề con ***độc lập, không trùng nhau*** khi bạn tiếp tục chia bài toán thành các bài toán con, mỗi bài toán con chỉ được giải một lần.\\\n",
        "Ngược lại trong **DP** các vấn đề con ***không độc lập, gối lên nhau*** *(một bài toán con được giải quyết như một phần của một bài toán con lớn hơn có thể được yêu cầu giải lại như một phần của bài toán con khác)*\n",
        " - Chia để trị tạo ra các bài toán con đệ quy nhỏ hơn đáng kể (từ n đến n / 2 hoặc n / 3 hoặc 3n / 4).\\\n",
        "Trong khi Quy hoạch động tạo ra đệ quy các bài toán con chỉ nhỏ hơn một chút (thường từ n đến n-1 hoặc n-2)\n",
        "\n",
        "- **Ví dụ: tính số Fibonaci**\n",
        "  - Chia để trị\n",
        "![fibo_DC](https://drive.google.com/uc?export=view&id=13y-w9XLdB7q9AEMdqhf-q0cF6nUApI4l)\n",
        "\n",
        "  - Quy hoạch động:\n",
        "![fibo_DP](https://drive.google.com/uc?export=view&id=1eIBmNqo3IvEIVpUTP9G7DXXYVAP0of99)\n",
        "\n",
        "\n",
        "![SosanhTT](https://drive.google.com/uc?export=view&id=1vHajRJc0Yat0bj5H0KOA_FzOxTK_VnQR)"
      ]
    },
    {
      "cell_type": "markdown",
      "metadata": {
        "id": "aImzvlS1rHs9"
      },
      "source": [
        "## **8. Các vấn đặt ra**\n"
      ]
    },
    {
      "cell_type": "markdown",
      "metadata": {
        "id": "_-0g-r79PMdV"
      },
      "source": [
        "- Làm thế nào để chia tách bài toán một cách hợp lý thành các bài toán con?? *(bởi vì nếu các bài toán con được giải quyết bằng các thuật toán khác nhau thì sẽ rất phức tạp)*\n",
        "\n",
        "* Việc kết hợp lời giải các bài toán con được thực hiện như thế nào??"
      ]
    },
    {
      "cell_type": "markdown",
      "metadata": {
        "id": "3MfQqUvgFGAf"
      },
      "source": [
        "##**9. Divide-and-Conquer** vs **Decrease-and-Conquer**. Là một??"
      ]
    },
    {
      "cell_type": "markdown",
      "metadata": {
        "id": "UVYXweGEFljE"
      },
      "source": [
        "Kỹ thuật ***giảm để trị*** tương tự như *chia để trị*, ngoại trừ thay vì phân chia một vấn đề thành nhiều bài toán con có kích thước nhỏ hơn, chúng ta sử dụng một số kỹ thuật để giảm vấn đề của chúng ta thành một bài toán nhỏ hơn ban đầu.\n",
        "\n",
        "Có ba biến thể chính của giảm và chinh phục:\n",
        "\n",
        "***1. Giảm theo một hằng số (thường là 1)***: kích thước của một cá thể được giảm bớt bởi cùng một hằng số trên mỗi lần lặp lại của thuật toán.\n",
        "  - **Ví dụ:** Xét bài toán lũy thừa của tính toán $a^n$ trong đó $a \\neq 0$ và $n$ là một số nguyên không âm. Mối quan hệ giữa một lời giải cho một trường hợp có kích thước $n$ và một trường hợp có kích thước $n - 1$ nhận được bằng công thức hiển nhiên $a^n = a^{n-1}.a$. Vì vậy, hàm $f(n) = a^n$ có thể được tính \"*từ trên xuống*\" bằng cách sử dụng định nghĩa đệ quy của nó hoặc \"*từ dưới lên*\" bằng cách nhân $1$ với $a$  $n$ lần.\n",
        "\n",
        "  $$\n",
        "f(n)=\n",
        "\\left\\{\n",
        "\\begin{array}{ll}\n",
        "f(n-1).a & n > 0 & (9.1)\\\\\n",
        "1 & n = 0\n",
        "\\end{array}\n",
        "\\right.\n",
        "$$\n",
        "\n",
        "  ![decrease-by-a-constant](https://drive.google.com/uc?export=view&id=1RGr7CWl6XWP2SumIIwgRJF_4X4N3R6m9)\n",
        "\n",
        "  - Một số ví dụ khác:\n",
        "    - [insertion sort](https://www.geeksforgeeks.org/insertion-sort/)\n",
        "    - [topological sorting](https://www.geeksforgeeks.org/topological-sorting/)\n",
        "    - Graph search algorithms: [DFS](https://www.geeksforgeeks.org/depth-first-search-or-dfs-for-a-graph/), [BFS](http://www.geeksforgeeks.org/breadth-first-traversal-for-a-graph/)\n",
        "    - thuật toán tạo hoán vị, tập con *(generating permutations, subsets)*\n",
        "\n",
        "***2. Giảm theo một hệ số không đổi (thường là một nửa):*** Kỹ thuật này đề xuất giảm một vấn đề bằng cùng một hệ số hằng số trên mỗi lần lặp lại của thuật toán. Trong hầu hết các ứng dụng, hệ số hằng số này bằng 2.\n",
        "  - **Ví dụ:** Chúng ta hãy xem lại bài toán lũy thừa. Nếu trường hợp cho kích thước $n$ là để tính toán $a^n$, thì trường hợp cho một nửa kích thước của nó ($n/2$) là để tính toán $a^{n/2}$, với mối quan hệ rõ ràng giữa hai: $a^n = (a^{n/2})^2$. Nhưng vì chúng ta xem xét ở đây các trường hợp chỉ có số mũ nguyên, nên trường hợp trước đây không hoạt động đối với $n$ lẻ. Nếu $n$ là số lẻ, chúng ta phải tính một $a^{n−1}$ bằng cách sử dụng quy tắc cho số mũ có giá trị chẵn và sau đó nhân kết quả với $a$.\\\n",
        "Nếu chúng ta tính toán đệ quy theo công thức (9.2) và đo lường hiệu quả của thuật toán bằng số phép nhân, chúng ta nên mong đợi thuật toán ở dạng $O (log n)$ bởi vì, trên mỗi lần lặp, kích thước sẽ giảm đi khoảng $a$ một nửa với chi phí của một hoặc hai phép nhân.\\\n",
        "Tóm lại, chúng ta có công thức sau:\n",
        "$$\n",
        "a^n=\n",
        "\\left\\{\n",
        "\\begin{array}{ll}\n",
        "(a^{n/2})^2 & \\textrm{if n is even and positive}\\\\\n",
        "(a^{(n-1)/2})^2.a & \\textrm{if n is odd}  & (9.2) \\\\\n",
        "1 & \\textrm{ if n = 0} \n",
        "\\end{array}\n",
        "\\right.\n",
        "$$\n",
        "\n",
        "  ![decrease-by-a-constant-factor](https://drive.google.com/uc?export=view&id=1pAKL0nJ5q2gXfss0EKPc4mL7xSRcSOeg)\n",
        "\n",
        "  - Một số ví dụ khác:\n",
        "    - binary search and bisection method\n",
        "    - exponentiation by squaring\n",
        "    - [Russian peasant multiplication](https://www.geeksforgeeks.org/russian-peasant-multiply-two-numbers-using-bitwise-operators/)\n",
        "\n",
        "***3. Giảm kích thước biến***\n",
        "    - [Euclid’s algorithm](https://www.geeksforgeeks.org/euclidean-algorithms-basic-and-extended/)\n",
        "    - [Computing median and selection problem](https://www.geeksforgeeks.org/kth-smallestlargest-element-unsorted-array-set-3-worst-case-linear-time/)\n",
        "    - Nim-like games\n",
        "\n",
        "\n",
        "Chúng tôi thấy rằng ***Merge Sort*** là một ví dụ điển hình về *chia để trị* (chia một danh sách thành hai danh sách riêng biệt để sắp xếp đệ quy). ***Binary search*** là một ví dụ về *giảm để trị* (chia một danh sách thành một nửa kích thước và chỉ tìm kiếm một danh sách đó cho mục tiêu).\n",
        "* Đối với các bài toán tổ hợp, chúng ta có thể cần tạo ra tất cả các hoán vị hoặc tập hợp con của một tập hợp. Ví dụ, để giải quyết vấn đề tổng của tập hợp con, chúng ta có thể tạo tất cả các tập hợp con có thể có và xem liệu các phần tử có tổng thành mục tiêu hay không. Chúng ta có thể tấn công những loại này bằng cách sử dụng thuật toán giảm và chinh phục."
      ]
    },
    {
      "cell_type": "markdown",
      "metadata": {
        "id": "Zko8fw30Rbva"
      },
      "source": [
        "$$\n",
        "a^n=\n",
        "\\left\\{\n",
        "\\begin{array}{ll}\n",
        "(a^{n/2})^2 & \\textrm{if n is even and positive}\\\\\n",
        "(a^{(n-1)/2})^2.a & \\textrm{if n is odd}\\\\ \n",
        "1 & \\textrm{ if n = 0} \n",
        "\\end{array}\n",
        "\\right.\n",
        "$$"
      ]
    },
    {
      "cell_type": "markdown",
      "metadata": {
        "id": "Evh4QeMreKcY"
      },
      "source": [
        "#**II. THỰC HÀNH**"
      ]
    },
    {
      "cell_type": "markdown",
      "metadata": {
        "id": "PZ7wcCMq_ZrB"
      },
      "source": [
        "#**III. THAM KHẢO**\n",
        "1. https://afteracademy.com/blog/divide-and-conquer-approach-in-programming\n",
        "2. https://www.geeksforgeeks.org/divide-and-conquer-algorithm-introduction/\n",
        "3. https://skerritt.blog/divide-and-conquer-algorithms/\n",
        "4. https://www.kodnest.com/free-online-courses/algorithm-2/lessons/advantages-and-disadvantages-of-divide-and-conquer/\n",
        "5. https://www.geeksforgeeks.org/decrease-and-conquer/\n",
        "6. http://www.cs.cmu.edu/afs/cs/academic/class/15210-s15/www/lectures/dandc-notes.pdf"
      ]
    }
  ]
}